{
 "cells": [
  {
   "cell_type": "code",
   "execution_count": 5,
   "id": "770cf0c2-f966-48d8-b6bb-eb57af574d79",
   "metadata": {},
   "outputs": [
    {
     "name": "stdout",
     "output_type": "stream",
     "text": [
      "[2, 3, 1, 4, 5]\n"
     ]
    }
   ],
   "source": [
    "def removeDuplicates(list): \n",
    "    \n",
    "    duplicatesRemoved = []\n",
    "    \n",
    "    for i in list :\n",
    "        if i not in duplicatesRemoved:\n",
    "            duplicatesRemoved.append(i)\n",
    "    list = duplicatesRemoved\n",
    "            \n",
    "    return list\n",
    "\n",
    "list = [2,3,1,2,3,4,5]\n",
    "print(removeDuplicates(list))"
   ]
  },
  {
   "cell_type": "code",
   "execution_count": null,
   "id": "14add329-81b9-4709-897b-2fde4c890c2b",
   "metadata": {},
   "outputs": [],
   "source": []
  }
 ],
 "metadata": {
  "kernelspec": {
   "display_name": "Python 3 (ipykernel)",
   "language": "python",
   "name": "python3"
  },
  "language_info": {
   "codemirror_mode": {
    "name": "ipython",
    "version": 3
   },
   "file_extension": ".py",
   "mimetype": "text/x-python",
   "name": "python",
   "nbconvert_exporter": "python",
   "pygments_lexer": "ipython3",
   "version": "3.9.12"
  }
 },
 "nbformat": 4,
 "nbformat_minor": 5
}
