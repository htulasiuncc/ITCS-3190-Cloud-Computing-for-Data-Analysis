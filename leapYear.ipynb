{
 "cells": [
  {
   "cell_type": "code",
   "execution_count": null,
   "id": "9892e3db-a263-43d3-b2f5-2dfc81c95543",
   "metadata": {},
   "outputs": [
    {
     "name": "stdin",
     "output_type": "stream",
     "text": [
      "Enter a Year: 18400\n"
     ]
    },
    {
     "name": "stdout",
     "output_type": "stream",
     "text": [
      "18400 is a leap year.\n"
     ]
    }
   ],
   "source": [
    "while True:\n",
    "    leapYear = input(\"Enter a Year:\")\n",
    "    try:\n",
    "        leapYear = int(leapYear)\n",
    "        if (leapYear <= 0):\n",
    "            raise NegativeNumberError\n",
    "        break\n",
    "    except NegativeNumberError:\n",
    "        print(\"Negative Years don't exist.\")\n",
    "if (leapYear % 400 == 0):\n",
    "    print(str(leapYear) + \" is a leap year.\")\n",
    "elif (leapYear % 4 == 0) and (leapYear % 100 != 0):\n",
    "    print(str(leapYear) + \" is a leap year.\")\n",
    "else:\n",
    "    print(str(leapYear) + \" is not a leap year.\")"
   ]
  },
  {
   "cell_type": "markdown",
   "id": "90115197-9f21-452b-84c5-f7d9c3ef69f8",
   "metadata": {},
   "source": [
    "# "
   ]
  },
  {
   "cell_type": "code",
   "execution_count": null,
   "id": "ba236490-12c3-41b6-99b5-eb847bca5dff",
   "metadata": {},
   "outputs": [],
   "source": []
  },
  {
   "cell_type": "code",
   "execution_count": null,
   "id": "82150f72-e3ae-4b18-9cda-10cea5d7cd2c",
   "metadata": {},
   "outputs": [],
   "source": []
  }
 ],
 "metadata": {
  "kernelspec": {
   "display_name": "Python 3 (ipykernel)",
   "language": "python",
   "name": "python3"
  },
  "language_info": {
   "codemirror_mode": {
    "name": "ipython",
    "version": 3
   },
   "file_extension": ".py",
   "mimetype": "text/x-python",
   "name": "python",
   "nbconvert_exporter": "python",
   "pygments_lexer": "ipython3",
   "version": "3.9.12"
  }
 },
 "nbformat": 4,
 "nbformat_minor": 5
}
