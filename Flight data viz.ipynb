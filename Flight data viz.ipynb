{
 "cells": [
  {
   "cell_type": "code",
   "execution_count": null,
   "id": "68b123dc",
   "metadata": {
    "pycharm": {
     "is_executing": true
    }
   },
   "outputs": [],
   "source": [
    "import pandas as pd\n",
    "from bokeh.plotting import figure, output_file, show\n",
    "from bokeh.models import ColumnDataSource\n",
    "import matplotlib.pyplot as plt\n",
    "import numpy as np\n",
    "import collections"
   ]
  },
  {
   "cell_type": "code",
   "execution_count": null,
   "id": "f900c4eb",
   "metadata": {
    "pycharm": {
     "is_executing": true
    }
   },
   "outputs": [],
   "source": [
    "data_location = 's3://flight-data-hima/flightdata.csv'\n",
    "df = pd.read_csv(data_location)\n",
    "df_challenge = df[['DepTime', 'DepDelay']]\n",
    "df_challenge = df_challenge.dropna()\n",
    "df_challenge.head()"
   ]
  },
  {
   "cell_type": "code",
   "execution_count": null,
   "id": "618d5f52",
   "metadata": {
    "pycharm": {
     "is_executing": true
    }
   },
   "outputs": [],
   "source": [
    "source = ColumnDataSource(df_challenge)\n",
    "p=figure()\n",
    "p.circle(x='DepTime', y='DepDelay', source=source, size=10, color='green')\n",
    "p.title.text = 'Relationship between Departure time & Departure delay'\n",
    "p.xaxis.axis_label = \"Departure time\"\n",
    "p.yaxis.axis_label = \"Departure delay\"\n",
    "output_file('flightdata.html')\n",
    "show(p)\n"
   ]
  },
  {
   "cell_type": "code",
   "execution_count": null,
   "id": "fa47969f",
   "metadata": {
    "pycharm": {
     "is_executing": true
    }
   },
   "outputs": [],
   "source": [
    "min_value =df[['DepTime','DepDelay']].min()\n",
    "max_value =df[['DepTime', 'DepDelay']].max()\n",
    "print(min_value)\n",
    "print(max_value)"
   ]
  },
  {
   "cell_type": "code",
   "execution_count": null,
   "id": "666d662c",
   "metadata": {
    "scrolled": true,
    "pycharm": {
     "is_executing": true
    }
   },
   "outputs": [],
   "source": [
    "bins = np.linspace(min_value, max_value, 8)\n",
    "bins"
   ]
  },
  {
   "cell_type": "code",
   "execution_count": null,
   "id": "cc868dd5",
   "metadata": {
    "pycharm": {
     "is_executing": true
    }
   },
   "outputs": [],
   "source": [
    "labels = ['1-3','4-6','7-9','10-12','12-15','16-18','19-21','22-24']"
   ]
  },
  {
   "cell_type": "code",
   "execution_count": null,
   "id": "afe6371b",
   "metadata": {},
   "outputs": [],
   "source": [
    "#following parts are in progress"
   ]
  },
  {
   "cell_type": "code",
   "execution_count": null,
   "id": "7bdf990d",
   "metadata": {},
   "outputs": [],
   "source": []
  },
  {
   "cell_type": "code",
   "execution_count": null,
   "id": "39a9cb83",
   "metadata": {
    "pycharm": {
     "is_executing": true
    }
   },
   "outputs": [],
   "source": [
    "#returns error that says I need a 1D array not 2D\n",
    "\n",
    "df['bins']= pd.cut(df[['DepTime', 'DepDelay']], bins=bins, labels=labels, include_lowest=True)"
   ]
  },
  {
   "cell_type": "code",
   "execution_count": 87,
   "id": "dbb043c2",
   "metadata": {},
   "outputs": [],
   "source": [
    "#Should work once the part above works\n",
    "#plt.hist(df['bins'], bins=8)"
   ]
  },
  {
   "cell_type": "code",
   "execution_count": null,
   "id": "cb328611",
   "metadata": {},
   "outputs": [],
   "source": [
    "#tried the part above with pd.qcut instead of pd.cut but still neede 1D array"
   ]
  },
  {
   "cell_type": "code",
   "execution_count": 89,
   "id": "df78e620",
   "metadata": {},
   "outputs": [],
   "source": [
    "#The following two parts also gave an error but I didn't know what it meant\n",
    "\n",
    "#myDict = collections.defaultdict(lambda:0)\n",
    "\n"
   ]
  },
  {
   "cell_type": "code",
   "execution_count": 115,
   "id": "4eee43d5",
   "metadata": {},
   "outputs": [],
   "source": [
    "#for i in range(df_challenge.shape[0]):\n",
    "#    myDict[df_challenge[i,1]] += df_challenge[i,0]\n",
    "#\n",
    "#plt.bar(df_challenge.keys(), df_challenge.values())\n",
    "#plt.show()"
   ]
  }
 ],
 "metadata": {
  "kernelspec": {
   "name": "python3",
   "language": "python",
   "display_name": "Python 3 (ipykernel)"
  },
  "language_info": {
   "codemirror_mode": {
    "name": "ipython",
    "version": 3
   },
   "file_extension": ".py",
   "mimetype": "text/x-python",
   "name": "python",
   "nbconvert_exporter": "python",
   "pygments_lexer": "ipython3",
   "version": "3.8.12"
  }
 },
 "nbformat": 4,
 "nbformat_minor": 5
}
